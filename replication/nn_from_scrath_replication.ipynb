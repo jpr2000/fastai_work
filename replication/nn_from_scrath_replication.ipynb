{
 "cells": [
  {
   "cell_type": "code",
   "execution_count": null,
   "id": "2fa7a7b5-0e0b-4ce1-9399-e171811f6a10",
   "metadata": {},
   "outputs": [],
   "source": [
    "!pip install kaggle"
   ]
  },
  {
   "cell_type": "code",
   "execution_count": null,
   "id": "b3103440-8320-44a7-a1e5-cea7f115f9a9",
   "metadata": {},
   "outputs": [],
   "source": [
    "# !cp ../kaggle.json /root/.kaggle/kaggle.json\n",
    "!"
   ]
  },
  {
   "cell_type": "code",
   "execution_count": null,
   "id": "01e619c5-7a16-49cf-9979-203277bf8b1d",
   "metadata": {},
   "outputs": [],
   "source": [
    "# Copying over from JH notebook\n",
    "import os\n",
    "from pathlib import Path\n",
    "import pandas as pd\n",
    "import numpy as np\n",
    "\n",
    "iskaggle = os.environ.get('KAGGLE_KERNEL_RUN_TYPE', '')\n",
    "if iskaggle: path = Path('../input/titanic')\n",
    "else:\n",
    "    path = Path('titanic')\n",
    "    if not path.exists():\n",
    "        import zipfile,kaggle\n",
    "        kaggle.api.competition_download_cli(str(path))\n",
    "        zipfile.ZipFile(f'{path}.zip').extractall(path)"
   ]
  },
  {
   "cell_type": "code",
   "execution_count": null,
   "id": "ec9f50c9-822f-4c76-807a-d383a0501bb8",
   "metadata": {},
   "outputs": [],
   "source": []
  },
  {
   "cell_type": "code",
   "execution_count": null,
   "id": "00c14cd2-0b8c-47e3-96ab-29875bab56f3",
   "metadata": {},
   "outputs": [],
   "source": [
    "import pandas as pd\n",
    "import numpy as np\n",
    "train_df = pd.read_csv(path/'train.csv')"
   ]
  },
  {
   "cell_type": "code",
   "execution_count": null,
   "id": "4cd20e31-3529-454a-99c6-3af803645525",
   "metadata": {},
   "outputs": [],
   "source": [
    "train_df"
   ]
  },
  {
   "cell_type": "code",
   "execution_count": null,
   "id": "cf48c38b-9306-48e2-8a14-7aa74f31c0a2",
   "metadata": {},
   "outputs": [],
   "source": [
    "# TODO: Check which ones JH included\n",
    "cat_vars = ['Pclass', 'Sex', 'Embarked']\n",
    "num_vars = ['Age', 'SibSp', 'Parch', 'Fare']"
   ]
  },
  {
   "cell_type": "code",
   "execution_count": null,
   "id": "af697e28-42bd-4fce-991f-395bab7ee66a",
   "metadata": {},
   "outputs": [],
   "source": [
    "num_df = train_df[num_vars].fillna(train_df[num_vars].mode().iloc[0])\n",
    "num_df['Fare'] = np.log(num_df['Fare'] + 1e-10)\n",
    "\n",
    "# Going through an easier approach rather than typical norm\n",
    "num_df = num_df / num_df.max()\n",
    "num_df"
   ]
  },
  {
   "cell_type": "code",
   "execution_count": null,
   "id": "53c4477b-7ebb-4cae-b3b3-54fc026d5614",
   "metadata": {},
   "outputs": [],
   "source": [
    "train_df[cat_vars].describe(include='all')\n",
    "train_df.isna().sum()"
   ]
  },
  {
   "cell_type": "code",
   "execution_count": null,
   "id": "a5d47018-c7f7-4c4e-b4ae-392b9d9fe6fd",
   "metadata": {},
   "outputs": [],
   "source": [
    "train_df.Pclass.unique()"
   ]
  },
  {
   "cell_type": "code",
   "execution_count": null,
   "id": "a82d5e03-5922-45e7-9a31-99066620b7b9",
   "metadata": {},
   "outputs": [],
   "source": [
    "# Curious how in-depth you should conside N/As\n",
    "cat_df = pd.get_dummies(train_df[cat_vars], columns=cat_vars)\n",
    "cat_df"
   ]
  },
  {
   "cell_type": "code",
   "execution_count": null,
   "id": "975b9350-d7ad-4c3b-a789-918ab7632019",
   "metadata": {},
   "outputs": [],
   "source": [
    "# Might need to normalize after creating the dummy vars?\n",
    "proc_train_df = num_df.join(cat_df)"
   ]
  },
  {
   "cell_type": "code",
   "execution_count": null,
   "id": "628347bb-a492-4c42-934b-ec3e14c16257",
   "metadata": {},
   "outputs": [],
   "source": []
  },
  {
   "cell_type": "code",
   "execution_count": null,
   "id": "d7f50448-d7a7-4668-820e-6486315c9f96",
   "metadata": {},
   "outputs": [],
   "source": [
    "def process_df(path):\n",
    "    df = pd.read_csv(path)\n",
    "    df = df.fillna(df.mode().iloc[0])\n",
    "    \n",
    "    \n",
    "    # TODO: Check which ones JH included\n",
    "    cat_vars = ['Pclass', 'Sex', 'Embarked']\n",
    "    num_vars = ['Age', 'SibSp', 'Parch', 'Fare']\n",
    "    \n",
    "    \n",
    "    num_df = df[num_vars]\n",
    "    num_df['Fare'] = np.log(num_df['Fare'] + 1e-10)\n",
    "    # Going for an easier approach rather than typical norm\n",
    "    num_df = num_df / num_df.max()\n",
    "\n",
    "    cat_df = pd.get_dummies(df[cat_vars], columns=cat_vars)\n",
    "    cat_df['const'] = 1\n",
    "    \n",
    "    return num_df.join(cat_df)"
   ]
  },
  {
   "cell_type": "code",
   "execution_count": null,
   "id": "48b0a586-6c93-4b1e-946e-6967bd91b33a",
   "metadata": {},
   "outputs": [],
   "source": [
    "train_df = process_df(path/'train.csv')\n",
    "train_df"
   ]
  },
  {
   "cell_type": "code",
   "execution_count": null,
   "id": "b522160b-d6fb-4e21-b9ff-6efd58e6937a",
   "metadata": {},
   "outputs": [],
   "source": [
    "train_df.isna().sum()"
   ]
  },
  {
   "cell_type": "code",
   "execution_count": null,
   "id": "c79e887b-cb8a-42d7-8735-055908eee148",
   "metadata": {},
   "outputs": [],
   "source": [
    "test_df = process_df(path/'test.csv')\n",
    "test_df"
   ]
  },
  {
   "cell_type": "code",
   "execution_count": null,
   "id": "d076c8de-dabf-4c19-9c6b-110158a60733",
   "metadata": {},
   "outputs": [],
   "source": [
    "train_df.isna().sum()"
   ]
  },
  {
   "cell_type": "code",
   "execution_count": null,
   "id": "7c310174-b1b9-4d62-9320-703e84dd3ea5",
   "metadata": {},
   "outputs": [],
   "source": [
    "# Great success! We can move into building out model!"
   ]
  },
  {
   "cell_type": "code",
   "execution_count": null,
   "id": "6b01fdc6-9563-401c-affc-82e04505ad54",
   "metadata": {},
   "outputs": [],
   "source": [
    "import torch"
   ]
  },
  {
   "cell_type": "code",
   "execution_count": null,
   "id": "3081d83a-f368-4271-821d-3167ad392aba",
   "metadata": {},
   "outputs": [],
   "source": [
    "weights = torch.rand(train_df.shape[1]) - 0.5\n",
    "weights"
   ]
  },
  {
   "cell_type": "code",
   "execution_count": null,
   "id": "9e9c6d2c-6bc8-46c1-9233-32d0bf30d97e",
   "metadata": {},
   "outputs": [],
   "source": []
  },
  {
   "cell_type": "code",
   "execution_count": null,
   "id": "047e61bf-dd0b-4182-9dc9-7be5583cfac8",
   "metadata": {},
   "outputs": [],
   "source": [
    "tensor_df = torch.tensor(train_df.values)\n",
    "tensor_df"
   ]
  },
  {
   "cell_type": "code",
   "execution_count": null,
   "id": "eb5b9e2d-eb27-476f-b349-8c5660f88269",
   "metadata": {},
   "outputs": [],
   "source": [
    "result = (tensor_df * weights)\n",
    "result"
   ]
  },
  {
   "cell_type": "code",
   "execution_count": null,
   "id": "d2a9c6c1-fca1-4636-a8af-a5442baeb3bf",
   "metadata": {},
   "outputs": [],
   "source": [
    "result.shape"
   ]
  },
  {
   "cell_type": "code",
   "execution_count": null,
   "id": "392a4fb7-cf48-4c56-bbe8-e82619e4cc56",
   "metadata": {},
   "outputs": [],
   "source": [
    "train_df.shape"
   ]
  },
  {
   "cell_type": "code",
   "execution_count": null,
   "id": "62ca0948-5a48-45b3-bfe9-0722737150c6",
   "metadata": {},
   "outputs": [],
   "source": [
    "def sigmoid(x):\n",
    "    return 1 / (1 + 1 / torch.exp(-x))"
   ]
  },
  {
   "cell_type": "code",
   "execution_count": null,
   "id": "10d2c692-920a-44cc-bbc7-b6d5af296bfc",
   "metadata": {},
   "outputs": [],
   "source": [
    "torch_implementation_sigmoid = torch.sigmoid(result.sum(axis=1))\n",
    "my_implementation_sigmoid = sigmoid(result.sum(axis=1))"
   ]
  },
  {
   "cell_type": "code",
   "execution_count": null,
   "id": "b2083418-9b53-4c67-96ed-5e24e80933dc",
   "metadata": {},
   "outputs": [],
   "source": [
    "# Awesome!\n",
    "(torch_implementation_sigmoid == torch_implementation_sigmoid).sum()"
   ]
  },
  {
   "cell_type": "code",
   "execution_count": null,
   "id": "1ed6204a-a854-4bb4-b0e7-21da6f6cfa62",
   "metadata": {},
   "outputs": [],
   "source": [
    "# TODO: Implement actual training\n",
    "\n",
    "def mse(preds, actual):\n",
    "    return torch.abs(preds - actual).mean()\n",
    "\n",
    "lr = 3e-5\n",
    "\n",
    "actual = torch.tensor(train_df['Survived'])\n",
    "\n",
    "def training_step(lr)\n",
    "    layer_results = tensor_df * weights\n",
    "    preds = sigmoid(layer_results.sum(axis=1))\n",
    "    loss = mse(preds, actual)\n",
    "\n",
    "    with torch.no_grad():\n",
    "        weights -= lr * loss\n",
    "        \n",
    "def train(steps=50, lr=3e-5):\n",
    "    for _ in steps:\n",
    "        training_step(lr)\n",
    "        \n",
    "def pred(input_tensor):\n",
    "    layer_results = input_tensor * weights\n",
    "    return sigmoid(layer_results.sum(axis=1))"
   ]
  },
  {
   "cell_type": "code",
   "execution_count": null,
   "id": "dce4bf17-1215-41f6-8c4b-d67575cc774d",
   "metadata": {},
   "outputs": [],
   "source": []
  }
 ],
 "metadata": {
  "kernelspec": {
   "display_name": "Python 3 (ipykernel)",
   "language": "python",
   "name": "python3"
  },
  "language_info": {
   "codemirror_mode": {
    "name": "ipython",
    "version": 3
   },
   "file_extension": ".py",
   "mimetype": "text/x-python",
   "name": "python",
   "nbconvert_exporter": "python",
   "pygments_lexer": "ipython3",
   "version": "3.9.13"
  }
 },
 "nbformat": 4,
 "nbformat_minor": 5
}
